{
  "nbformat": 4,
  "nbformat_minor": 0,
  "metadata": {
    "colab": {
      "provenance": [],
      "authorship_tag": "ABX9TyOfpmoVfCfl1TTFFsFLEeOh",
      "include_colab_link": true
    },
    "kernelspec": {
      "name": "python3",
      "display_name": "Python 3"
    },
    "language_info": {
      "name": "python"
    }
  },
  "cells": [
    {
      "cell_type": "markdown",
      "metadata": {
        "id": "view-in-github",
        "colab_type": "text"
      },
      "source": [
        "<a href=\"https://colab.research.google.com/github/clem-mont-inha/MidTermsDB/blob/main/MidTermsDB.ipynb\" target=\"_parent\"><img src=\"https://colab.research.google.com/assets/colab-badge.svg\" alt=\"Open In Colab\"/></a>"
      ]
    },
    {
      "cell_type": "code",
      "source": [
        "import sqlite3\n",
        "\n",
        "conn = sqlite3.connect('ITS.db')\n",
        "print(\"Databse connection successfull\")\n",
        "\n",
        "conn.execute('''CREATE TABLE IF NOT EXISTS \"Vehicle\"(\n",
        "  \"VehicleID\" INTEGER NOT NULL,\n",
        "  \"RegistrationID\" VARCHAR NOT NULL,\n",
        "  \"Manufacturer\" VARCHAR NOT NULL,\n",
        "  \"Model\" VARCHAR NOT NULL,\n",
        "  \"Color\" VARCHAR NOT NULL,\n",
        "  \"CurrentOdometer\" INT NOT NULL,\n",
        "  \"PassengerCapacity\" INT NOT NULL,\n",
        "  \"Avalaible\" BOOLEAN NOT NULL,\n",
        "  PRIMARY KEY(\"VehicleID\"));'''\n",
        ")\n",
        "\n",
        "print(\"Table Vehicle succesfully created\")"
      ],
      "metadata": {
        "colab": {
          "base_uri": "https://localhost:8080/"
        },
        "id": "L6IcAnK9XPPS",
        "outputId": "98882a52-fc48-433e-89af-8206598afd9b"
      },
      "execution_count": 1,
      "outputs": [
        {
          "output_type": "stream",
          "name": "stdout",
          "text": [
            "Databse connection successfull\n",
            "Table Vehicle succesfully created\n"
          ]
        }
      ]
    },
    {
      "cell_type": "code",
      "source": [
        "conn.execute('''CREATE TABLE IF NOT EXISTS \"Language\"(\n",
        "  \"LanguageCode\" CHAR(2) NOT NULL,\n",
        "  \"LanguageName\" VARCHAR NOT NULL,\n",
        "  PRIMARY KEY(\"LanguageCode\"));'''\n",
        ")\n",
        "\n",
        "print(\"Table Language succesfully created\")"
      ],
      "metadata": {
        "colab": {
          "base_uri": "https://localhost:8080/"
        },
        "id": "yeMvbgeiXUWM",
        "outputId": "3b14ba05-bf97-4a4f-820c-a24711d38f53"
      },
      "execution_count": 2,
      "outputs": [
        {
          "output_type": "stream",
          "name": "stdout",
          "text": [
            "Table Language succesfully created\n"
          ]
        }
      ]
    },
    {
      "cell_type": "code",
      "source": [
        "conn.execute('''CREATE TABLE IF NOT EXISTS \"Country\"(\n",
        "  \"CountryCode\" CHAR(2) NOT NULL,\n",
        "  \"CountryName\" VARCHAR NOT NULL,\n",
        "  \"MostFrequentlySpokenLanguage\" CHAR(2) NOT NULL,\n",
        "  PRIMARY KEY(\"CountryCode\"),\n",
        "  CONSTRAINT \"Language_Country\"\n",
        "    FOREIGN KEY (\"MostFrequentlySpokenLanguage\")\n",
        "      REFERENCES \"Language\" (\"LanguageCode\"));'''\n",
        ")\n",
        "\n",
        "print(\"Table Country succesfully created\")"
      ],
      "metadata": {
        "colab": {
          "base_uri": "https://localhost:8080/"
        },
        "id": "YnaNtroIXWLi",
        "outputId": "c0a3d5e0-6ddc-4bbf-eb0d-5ea01f0bb205"
      },
      "execution_count": 3,
      "outputs": [
        {
          "output_type": "stream",
          "name": "stdout",
          "text": [
            "Table Country succesfully created\n"
          ]
        }
      ]
    },
    {
      "cell_type": "code",
      "source": [
        "conn.execute('''CREATE TABLE IF NOT EXISTS \"Official\"(\n",
        "  \"OfficialID\" INTEGER NOT NULL,\n",
        "  \"CityID\" CHAR(8) NOT NULL,\n",
        "  \"Name\" VARCHAR NOT NULL,\n",
        "  \"Role\" VARCHAR NOT NULL,\n",
        "  \"PreferredLanguage\" CHAR(2) NOT NULL,\n",
        "  \"CountryCode\" CHAR(2) NOT NULL,\n",
        "  PRIMARY KEY(\"OfficialID\"),\n",
        "  CONSTRAINT \"Language_Official\"\n",
        "    FOREIGN KEY (\"PreferredLanguage\") REFERENCES \"Language\" (\"LanguageCode\"),\n",
        "  CONSTRAINT \"Country_Official\"\n",
        "    FOREIGN KEY (\"CountryCode\") REFERENCES \"Country\" (\"CountryCode\"));'''\n",
        ")\n",
        "\n",
        "print(\"Table Official succesfully created\")"
      ],
      "metadata": {
        "colab": {
          "base_uri": "https://localhost:8080/"
        },
        "id": "pkSfLD7mXZoR",
        "outputId": "43617972-31b4-470b-fbed-ad13819ff668"
      },
      "execution_count": 4,
      "outputs": [
        {
          "output_type": "stream",
          "name": "stdout",
          "text": [
            "Table Official succesfully created\n"
          ]
        }
      ]
    },
    {
      "cell_type": "code",
      "source": [
        "conn.execute('''CREATE TABLE IF NOT EXISTS \"Driver\"(\n",
        "  \"DriverID\" INTEGER NOT NULL,\n",
        "  \"LicenseNumber\" CHAR(18) NOT NULL,\n",
        "  \"Name\" VARCHAR NOT NULL,\n",
        "  \"ClearanceLevel\" INT NOT NULL,\n",
        "  \"FATLLevel\" INT,\n",
        "  \"FATLQualificationDate\" DATE,\n",
        "  \"STLVTLevel\" INT,\n",
        "  \"STLVTQualificationDate\" DATE,\n",
        "  \"STLVTCertifyingAuthority\" VARCHAR,\n",
        "  \"PreferredLanguage\" NCHAR NOT NULL,\n",
        "  PRIMARY KEY(\"DriverID\"),\n",
        "  CONSTRAINT \"Language_Driver\"\n",
        "    FOREIGN KEY (\"PreferredLanguage\") REFERENCES \"Language\" (\"LanguageCode\"));'''\n",
        ")\n",
        "\n",
        "print(\"Table Driver succesfully created\")"
      ],
      "metadata": {
        "colab": {
          "base_uri": "https://localhost:8080/"
        },
        "id": "pzc1z4K5Xe1I",
        "outputId": "c6f4f65f-f281-44d1-fede-d4c83d7c2dd1"
      },
      "execution_count": 5,
      "outputs": [
        {
          "output_type": "stream",
          "name": "stdout",
          "text": [
            "Table Driver succesfully created\n"
          ]
        }
      ]
    },
    {
      "cell_type": "code",
      "source": [
        "conn.execute('''CREATE TABLE IF NOT EXISTS \"Location\"(\n",
        "  \"LocationID\" INTEGER NOT NULL,\n",
        "  \"Name\" VARCHAR NOT NULL,\n",
        "  \"Address\" VARCHAR NOT NULL,\n",
        "  \"Type\" VARCHAR NOT NULL,\n",
        "  PRIMARY KEY(\"LocationID\"));'''\n",
        ")\n",
        "\n",
        "print(\"Table Location succesfully created\")"
      ],
      "metadata": {
        "colab": {
          "base_uri": "https://localhost:8080/"
        },
        "id": "mQEMsl_vXhNn",
        "outputId": "3c82ed54-3066-4188-8c60-72aee798c453"
      },
      "execution_count": 6,
      "outputs": [
        {
          "output_type": "stream",
          "name": "stdout",
          "text": [
            "Table Location succesfully created\n"
          ]
        }
      ]
    },
    {
      "cell_type": "code",
      "source": [
        "conn.execute('''CREATE TABLE IF NOT EXISTS \"Booking\"(\n",
        "  \"Reference\" VARCHAR NOT NULL,\n",
        "  \"StartTime\" DATETIME NOT NULL,\n",
        "  \"EndTime\" DATETIME NOT NULL,\n",
        "  \"StartOdometer\" INTEGER NOT NULL,\n",
        "  \"EndOdometer\" INTEGER NOT NULL,\n",
        "  \"OfficialID\" INTEGER NOT NULL,\n",
        "  \"DriverID\" INTEGER NOT NULL,\n",
        "  \"VehicleID\" INTEGER NOT NULL,\n",
        "  \"PickupLocationID\" INTEGER NOT NULL,\n",
        "  \"DropOffLocationID\" INTEGER NOT NULL,\n",
        "  PRIMARY KEY(\"Reference\"),\n",
        "  CONSTRAINT \"Vehicle_Booking\"\n",
        "    FOREIGN KEY (\"VehicleID\") REFERENCES \"Vehicle\" (\"VehicleID\"),\n",
        "  CONSTRAINT \"Driver_Booking\"\n",
        "    FOREIGN KEY (\"DriverID\") REFERENCES \"Driver\" (\"DriverID\"),\n",
        "  CONSTRAINT \"Official_Booking\"\n",
        "    FOREIGN KEY (\"OfficialID\") REFERENCES \"Official\" (\"OfficialID\"),\n",
        "  CONSTRAINT \"Location_Booking\"\n",
        "    FOREIGN KEY (\"PickupLocationID\") REFERENCES \"Location\" (\"LocationID\"),\n",
        "  CONSTRAINT \"Location_Booking\"\n",
        "    FOREIGN KEY (\"DropOffLocationID\") REFERENCES \"Location\" (\"LocationID\"));'''\n",
        ")\n",
        "\n",
        "print(\"Table Booking succesfully created\")"
      ],
      "metadata": {
        "colab": {
          "base_uri": "https://localhost:8080/"
        },
        "id": "RY_M6xq8XjY2",
        "outputId": "0bf60665-0e4c-4ddb-dc10-e7fd82c8902c"
      },
      "execution_count": 7,
      "outputs": [
        {
          "output_type": "stream",
          "name": "stdout",
          "text": [
            "Table Booking succesfully created\n"
          ]
        }
      ]
    },
    {
      "cell_type": "code",
      "source": [
        "conn.execute('''CREATE TABLE IF NOT EXISTS \"VehicleAction\"(\n",
        "  \"ActionID\" INTEGER NOT NULL,\n",
        "  \"VehicleID\" INTEGER NOT NULL,\n",
        "  \"Type\" CHARACTER NOT NULL,\n",
        "  \"Odometer\" INT NOT NULL,\n",
        "  \"FinalCost\" INT NOT NULL,\n",
        "  \"Description\" VARCHAR NOT NULL,\n",
        "  \"Date\" DATE NOT NULL,\n",
        "  PRIMARY KEY(\"ActionID\"),\n",
        "  CONSTRAINT \"Vehicle_VehicleAction\"\n",
        "    FOREIGN KEY (\"VehicleID\") REFERENCES \"Vehicle\" (\"VehicleID\"));'''\n",
        ")\n",
        "\n",
        "print(\"Table VehicleAction succesfully created\")"
      ],
      "metadata": {
        "colab": {
          "base_uri": "https://localhost:8080/"
        },
        "id": "9LVhasFmXldm",
        "outputId": "f84af3f3-c4e0-4e61-9787-f52ea995229a"
      },
      "execution_count": 8,
      "outputs": [
        {
          "output_type": "stream",
          "name": "stdout",
          "text": [
            "Table VehicleAction succesfully created\n"
          ]
        }
      ]
    },
    {
      "cell_type": "code",
      "source": [
        "languages = [\n",
        "    (\"EN\", \"English\"),\n",
        "    (\"KR\", \"Korean\"),\n",
        "    (\"FR\", \"French\")\n",
        "]\n",
        "\n",
        "conn.executemany('''INSERT INTO \"Language\" (\"LanguageCode\", \"LanguageName\") VALUES (?, ?);''', languages)\n",
        "conn.commit()\n",
        "\n",
        "print(\"Table Language succesfully filled\")"
      ],
      "metadata": {
        "colab": {
          "base_uri": "https://localhost:8080/"
        },
        "id": "iESNr8wDX-Ju",
        "outputId": "2e4b8bb9-8aa4-4613-b7be-346aa246ad3e"
      },
      "execution_count": 10,
      "outputs": [
        {
          "output_type": "stream",
          "name": "stdout",
          "text": [
            "Table Language succesfully filled\n"
          ]
        }
      ]
    },
    {
      "cell_type": "code",
      "source": [
        "countries = [\n",
        "    (\"KR\", \"South Korea\", \"KR\"),\n",
        "    (\"EN\", \"England\", \"EN\"),\n",
        "    (\"FR\", \"France\", \"FR\")\n",
        "]\n",
        "\n",
        "conn.executemany('''INSERT INTO \"Country\" (\"CountryCode\", \"CountryName\", \"MostFrequentlySpokenLanguage\") VALUES (?, ?, ?);''', countries)\n",
        "conn.commit()\n",
        "\n",
        "print(\"Table Country succesfully filled\")"
      ],
      "metadata": {
        "colab": {
          "base_uri": "https://localhost:8080/"
        },
        "id": "N1-PWHcmYFtO",
        "outputId": "a3bb9a83-2db7-4a4e-b5dd-8c1a5d73211f"
      },
      "execution_count": 11,
      "outputs": [
        {
          "output_type": "stream",
          "name": "stdout",
          "text": [
            "Table Country succesfully filled\n"
          ]
        }
      ]
    },
    {
      "cell_type": "code",
      "source": [
        "officials = [\n",
        "    (\"INCHEON\", \"Clement Monteiro\", \"Coach\", \"KR\", \"KR\"),\n",
        "    (\"INCHEON\", \"Cyprien Singez\", \"Journalist\", \"FR\", \"FR\"),\n",
        "]\n",
        "\n",
        "conn.executemany('''INSERT INTO \"Official\" (\"CityID\", \"Name\", \"Role\", \"PreferredLanguage\", \"CountryCode\") VALUES (?, ?, ?, ?, ?);''', officials)\n",
        "conn.commit()\n",
        "\n",
        "print(\"Table Official succesfully filled\")"
      ],
      "metadata": {
        "colab": {
          "base_uri": "https://localhost:8080/"
        },
        "id": "jUEOQOm2YJRJ",
        "outputId": "6371f04d-f6c4-43bc-d6d0-1dff76ba5807"
      },
      "execution_count": 12,
      "outputs": [
        {
          "output_type": "stream",
          "name": "stdout",
          "text": [
            "Table Official succesfully filled\n"
          ]
        }
      ]
    },
    {
      "cell_type": "code",
      "source": [
        "drivers = [\n",
        "    (\"azerty123456789\", \"Clément Monteiro\", 3, \"KR\")\n",
        "]\n",
        "\n",
        "conn.executemany('''INSERT INTO \"Driver\" (\"LicenseNumber\", \"Name\", \"ClearanceLevel\", \"PreferredLanguage\") VALUES (?, ?, ?, ?);''', drivers)\n",
        "conn.commit()\n",
        "\n",
        "print(\"Table Driver succesfully filled\")"
      ],
      "metadata": {
        "colab": {
          "base_uri": "https://localhost:8080/"
        },
        "id": "9em2EpyqYQ4a",
        "outputId": "a7ee2436-d13d-46a2-ea34-3ae7dac0e86a"
      },
      "execution_count": 13,
      "outputs": [
        {
          "output_type": "stream",
          "name": "stdout",
          "text": [
            "Table Driver succesfully filled\n"
          ]
        }
      ]
    },
    {
      "cell_type": "code",
      "source": [
        "locations = [\n",
        "    (\"Incheon Airport\", \"Incheon Airport\", \"Airport\"),\n",
        "    (\"Incheon Bus Terminal\", \"Incheon Bus Terminal\", \"Bus Terminal\"),\n",
        "    (\"Jeju Airport\", \"Jeju Airport\", \"Airport\")\n",
        "]\n",
        "\n",
        "conn.executemany('''INSERT INTO \"Location\" (\"Name\", \"Address\", \"Type\") VALUES (?, ?, ?);''', locations)\n",
        "conn.commit()\n",
        "\n",
        "print(\"Table Location succesfully filled\")"
      ],
      "metadata": {
        "colab": {
          "base_uri": "https://localhost:8080/"
        },
        "id": "z5kJ1p_HYTQx",
        "outputId": "0f9b7f39-18bf-496b-8479-a5edfdf53e04"
      },
      "execution_count": 14,
      "outputs": [
        {
          "output_type": "stream",
          "name": "stdout",
          "text": [
            "Table Location succesfully filled\n"
          ]
        }
      ]
    },
    {
      "cell_type": "code",
      "source": [
        "vehicles = [\n",
        "    (\"AA-123-AA\", \"Tesla\", \"Model Y\", \"BLue\", 10, 5, False),\n",
        "    (\"AA-123-AA\", \"Toyota\", \"Prius\", \"White\", 10000, 5, True)\n",
        "]\n",
        "\n",
        "conn.executemany('''INSERT INTO \"Vehicle\" (\"RegistrationID\", \"Manufacturer\", \"Model\", \"Color\", \"CurrentOdometer\", \"PassengerCapacity\", \"Avalaible\") VALUES (?, ?, ?, ?, ?, ?, ?);''', vehicles)\n",
        "conn.commit()\n",
        "\n",
        "print(\"Table Vehicle succesfully filled\")"
      ],
      "metadata": {
        "colab": {
          "base_uri": "https://localhost:8080/"
        },
        "id": "XpNfBDeBYX0M",
        "outputId": "9fd159ab-7e62-4aa8-cd6e-a2de71bddba3"
      },
      "execution_count": 15,
      "outputs": [
        {
          "output_type": "stream",
          "name": "stdout",
          "text": [
            "Table Vehicle succesfully filled\n"
          ]
        }
      ]
    },
    {
      "cell_type": "code",
      "source": [
        "vehicleActions = [\n",
        "    (\"R\", 1, 10000, 1000, \"Repair because of damage\", \"2023-10-21\"),\n",
        "    (\"M\", 2, 10, 1000, \"Battery replacement\", \"2023-10-21\")\n",
        "]\n",
        "\n",
        "conn.executemany('''INSERT INTO \"VehicleAction\" (\"Type\", \"VehicleID\", \"Odometer\", \"FinalCost\", \"Description\", \"Date\") VALUES (?, ?, ?, ?, ?, ?);''', vehicleActions)\n",
        "conn.commit()\n",
        "\n",
        "print(\"Table VehicleAction succesfully filled\")"
      ],
      "metadata": {
        "colab": {
          "base_uri": "https://localhost:8080/"
        },
        "id": "OkKSibR7YbT9",
        "outputId": "034a8a89-efce-40b4-d9a1-59222b8cde30"
      },
      "execution_count": 16,
      "outputs": [
        {
          "output_type": "stream",
          "name": "stdout",
          "text": [
            "Table VehicleAction succesfully filled\n"
          ]
        }
      ]
    },
    {
      "cell_type": "code",
      "source": [
        "bookings = [\n",
        "    (\"azerty123456789\", \"2023-10-21 10:00:00\", \"2023-10-21 11:00:00\", 10000, 10010, 1, 1, 1, 1, 2),\n",
        "    (\"987654321ytreza\", \"2023-10-21 08:00:00\", \"2023-10-21 12:00:00\", 10, 20, 2, 1, 2, 2, 3)\n",
        "]\n",
        "\n",
        "conn.executemany('''INSERT INTO \"Booking\" (\"Reference\", \"StartTime\", \"EndTime\", \"StartOdometer\", \"EndOdometer\", \"OfficialID\", \"DriverID\", \"VehicleID\", \"PickupLocationID\", \"DropOffLocationID\") VALUES (?, ?, ?, ?, ?, ?, ?, ?, ?, ?);''', bookings)\n",
        "conn.commit()\n",
        "\n",
        "print(\"Table Booking succesfully filled\")"
      ],
      "metadata": {
        "colab": {
          "base_uri": "https://localhost:8080/"
        },
        "id": "cNQCY2gvYdhD",
        "outputId": "0e4397af-d1b3-4189-eb35-7f3ed41a2bbe"
      },
      "execution_count": 17,
      "outputs": [
        {
          "output_type": "stream",
          "name": "stdout",
          "text": [
            "Table Booking succesfully filled\n"
          ]
        }
      ]
    },
    {
      "cell_type": "code",
      "source": [
        "tables = [\"Vehicle\", \"Language\", \"Country\", \"Official\", \"Driver\", \"Location\", \"Booking\", \"VehicleAction\"]\n",
        "\n",
        "for table in tables:\n",
        "    print(table + \" rows:\")\n",
        "    print(conn.execute(\"SELECT * FROM \" + table + \";\").fetchall())\n",
        "    print(\"\")"
      ],
      "metadata": {
        "colab": {
          "base_uri": "https://localhost:8080/"
        },
        "id": "t4PJOX0UYf-2",
        "outputId": "2f3b96d2-a6f2-4eb0-af15-c9f3eb95d7ed"
      },
      "execution_count": 18,
      "outputs": [
        {
          "output_type": "stream",
          "name": "stdout",
          "text": [
            "Vehicle rows:\n",
            "[(1, 'AA-123-AA', 'Tesla', 'Model Y', 'BLue', 10, 5, 0), (2, 'AA-123-AA', 'Toyota', 'Prius', 'White', 10000, 5, 1)]\n",
            "\n",
            "Language rows:\n",
            "[('EN', 'English'), ('KR', 'Korean'), ('FR', 'French')]\n",
            "\n",
            "Country rows:\n",
            "[('KR', 'South Korea', 'KR'), ('EN', 'England', 'EN'), ('FR', 'France', 'FR')]\n",
            "\n",
            "Official rows:\n",
            "[(1, 'INCHEON', 'Clement Monteiro', 'Coach', 'KR', 'KR'), (2, 'INCHEON', 'Cyprien Singez', 'Journalist', 'FR', 'FR')]\n",
            "\n",
            "Driver rows:\n",
            "[(1, 'azerty123456789', 'Clément Monteiro', 3, None, None, None, None, None, 'KR')]\n",
            "\n",
            "Location rows:\n",
            "[(1, 'Incheon Airport', 'Incheon Airport', 'Airport'), (2, 'Incheon Bus Terminal', 'Incheon Bus Terminal', 'Bus Terminal'), (3, 'Jeju Airport', 'Jeju Airport', 'Airport')]\n",
            "\n",
            "Booking rows:\n",
            "[('azerty123456789', '2023-10-21 10:00:00', '2023-10-21 11:00:00', 10000, 10010, 1, 1, 1, 1, 2), ('987654321ytreza', '2023-10-21 08:00:00', '2023-10-21 12:00:00', 10, 20, 2, 1, 2, 2, 3)]\n",
            "\n",
            "VehicleAction rows:\n",
            "[(1, 1, 'R', 10000, 1000, 'Repair because of damage', '2023-10-21'), (2, 2, 'M', 10, 1000, 'Battery replacement', '2023-10-21')]\n",
            "\n"
          ]
        }
      ]
    }
  ]
}