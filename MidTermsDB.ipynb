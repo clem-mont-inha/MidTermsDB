{
  "nbformat": 4,
  "nbformat_minor": 0,
  "metadata": {
    "colab": {
      "provenance": [],
      "authorship_tag": "ABX9TyMAjVQOtbzAEO3y9ya8tGpp",
      "include_colab_link": true
    },
    "kernelspec": {
      "name": "python3",
      "display_name": "Python 3"
    },
    "language_info": {
      "name": "python"
    }
  },
  "cells": [
    {
      "cell_type": "markdown",
      "metadata": {
        "id": "view-in-github",
        "colab_type": "text"
      },
      "source": [
        "<a href=\"https://colab.research.google.com/github/clem-mont-inha/MidTermsDB/blob/main/MidTermsDB.ipynb\" target=\"_parent\"><img src=\"https://colab.research.google.com/assets/colab-badge.svg\" alt=\"Open In Colab\"/></a>"
      ]
    },
    {
      "cell_type": "code",
      "source": [
        "import sqlite3\n",
        "\n",
        "conn = sqlite3.connect('ITS.db')\n",
        "print(\"Databse connection successfull\")\n",
        "\n",
        "conn.execute('''CREATE TABLE IF NOT EXISTS \"Vehicle\"(\n",
        "  \"VehicleID\" INTEGER NOT NULL,\n",
        "  \"RegistrationID\" TEXT NOT NULL,\n",
        "  \"Manufacturer\" TEXT NOT NULL,\n",
        "  \"Model\" TEXT NOT NULL,\n",
        "  \"Color\" TEXT NOT NULL,\n",
        "  \"CurrentOdometer\" INT NOT NULL,\n",
        "  \"PassengerCapacity\" INT NOT NULL,\n",
        "  \"Avalaible\" BOOLEAN NOT NULL,\n",
        "  PRIMARY KEY(\"VehicleID\"));'''\n",
        ")\n",
        "\n",
        "print(\"Table Vehicle succesfully created\")"
      ],
      "metadata": {
        "colab": {
          "base_uri": "https://localhost:8080/"
        },
        "id": "L6IcAnK9XPPS",
        "outputId": "28cef306-23f5-416b-c63c-b01b298d6b3b"
      },
      "execution_count": 19,
      "outputs": [
        {
          "output_type": "stream",
          "name": "stdout",
          "text": [
            "Databse connection successfull\n",
            "Table Vehicle succesfully created\n"
          ]
        }
      ]
    },
    {
      "cell_type": "code",
      "source": [
        "conn.execute('''CREATE TABLE IF NOT EXISTS \"Language\"(\n",
        "  \"LanguageCode\" CHAR(2) NOT NULL,\n",
        "  \"LanguageName\" TEXT NOT NULL,\n",
        "  PRIMARY KEY(\"LanguageCode\"));'''\n",
        ")\n",
        "\n",
        "print(\"Table Language succesfully created\")"
      ],
      "metadata": {
        "colab": {
          "base_uri": "https://localhost:8080/"
        },
        "id": "yeMvbgeiXUWM",
        "outputId": "dcf096e6-b0b8-4a6f-a41c-786dfd482752"
      },
      "execution_count": 20,
      "outputs": [
        {
          "output_type": "stream",
          "name": "stdout",
          "text": [
            "Table Language succesfully created\n"
          ]
        }
      ]
    },
    {
      "cell_type": "code",
      "source": [
        "conn.execute('''CREATE TABLE IF NOT EXISTS \"Country\"(\n",
        "  \"CountryCode\" CHAR(2) NOT NULL,\n",
        "  \"CountryName\" TEXT NOT NULL,\n",
        "  \"MostFrequentlySpokenLanguage\" CHAR(2) NOT NULL,\n",
        "  PRIMARY KEY(\"CountryCode\"),\n",
        "  CONSTRAINT \"Language_Country\"\n",
        "    FOREIGN KEY (\"MostFrequentlySpokenLanguage\")\n",
        "      REFERENCES \"Language\" (\"LanguageCode\"));'''\n",
        ")\n",
        "\n",
        "print(\"Table Country succesfully created\")"
      ],
      "metadata": {
        "colab": {
          "base_uri": "https://localhost:8080/"
        },
        "id": "YnaNtroIXWLi",
        "outputId": "919f5b7b-9bd4-42f6-f1a8-b7c949611d14"
      },
      "execution_count": 21,
      "outputs": [
        {
          "output_type": "stream",
          "name": "stdout",
          "text": [
            "Table Country succesfully created\n"
          ]
        }
      ]
    },
    {
      "cell_type": "code",
      "source": [
        "conn.execute('''CREATE TABLE IF NOT EXISTS \"Official\"(\n",
        "  \"OfficialID\" INTEGER NOT NULL,\n",
        "  \"CityID\" CHAR(8) NOT NULL,\n",
        "  \"Name\" TEXT NOT NULL,\n",
        "  \"Role\" TEXT NOT NULL,\n",
        "  \"PreferredLanguage\" CHAR(2) NOT NULL,\n",
        "  \"CountryCode\" CHAR(2) NOT NULL,\n",
        "  PRIMARY KEY(\"OfficialID\"),\n",
        "  CONSTRAINT \"Language_Official\"\n",
        "    FOREIGN KEY (\"PreferredLanguage\") REFERENCES \"Language\" (\"LanguageCode\"),\n",
        "  CONSTRAINT \"Country_Official\"\n",
        "    FOREIGN KEY (\"CountryCode\") REFERENCES \"Country\" (\"CountryCode\"));'''\n",
        ")\n",
        "\n",
        "print(\"Table Official succesfully created\")"
      ],
      "metadata": {
        "colab": {
          "base_uri": "https://localhost:8080/"
        },
        "id": "pkSfLD7mXZoR",
        "outputId": "b7f7062d-3040-40e9-8d74-c30d149a232e"
      },
      "execution_count": 22,
      "outputs": [
        {
          "output_type": "stream",
          "name": "stdout",
          "text": [
            "Table Official succesfully created\n"
          ]
        }
      ]
    },
    {
      "cell_type": "code",
      "source": [
        "conn.execute('''CREATE TABLE IF NOT EXISTS \"Driver\"(\n",
        "  \"DriverID\" INTEGER NOT NULL,\n",
        "  \"LicenseNumber\" CHAR(18) NOT NULL,\n",
        "  \"Name\" TEXT NOT NULL,\n",
        "  \"ClearanceLevel\" INT NOT NULL,\n",
        "  \"FATLLevel\" INT,\n",
        "  \"FATLQualificationDate\" DATE,\n",
        "  \"STLVTLevel\" INT,\n",
        "  \"STLVTQualificationDate\" DATE,\n",
        "  \"STLVTCertifyingAuthority\" TEXT,\n",
        "  \"PreferredLanguage\" NCHAR NOT NULL,\n",
        "  PRIMARY KEY(\"DriverID\"),\n",
        "  CONSTRAINT \"Language_Driver\"\n",
        "    FOREIGN KEY (\"PreferredLanguage\") REFERENCES \"Language\" (\"LanguageCode\"));'''\n",
        ")\n",
        "\n",
        "print(\"Table Driver succesfully created\")"
      ],
      "metadata": {
        "colab": {
          "base_uri": "https://localhost:8080/"
        },
        "id": "pzc1z4K5Xe1I",
        "outputId": "805ee363-b332-47e1-a5cb-ba5df383eca7"
      },
      "execution_count": 23,
      "outputs": [
        {
          "output_type": "stream",
          "name": "stdout",
          "text": [
            "Table Driver succesfully created\n"
          ]
        }
      ]
    },
    {
      "cell_type": "code",
      "source": [
        "conn.execute('''CREATE TABLE IF NOT EXISTS \"Location\"(\n",
        "  \"LocationID\" INTEGER NOT NULL,\n",
        "  \"Name\" TEXT NOT NULL,\n",
        "  \"Address\" TEXT NOT NULL,\n",
        "  \"Type\" TEXT NOT NULL,\n",
        "  PRIMARY KEY(\"LocationID\"));'''\n",
        ")\n",
        "\n",
        "print(\"Table Location succesfully created\")"
      ],
      "metadata": {
        "colab": {
          "base_uri": "https://localhost:8080/"
        },
        "id": "mQEMsl_vXhNn",
        "outputId": "09e41f47-6f90-40c6-9fd8-c92cdfb88376"
      },
      "execution_count": 24,
      "outputs": [
        {
          "output_type": "stream",
          "name": "stdout",
          "text": [
            "Table Location succesfully created\n"
          ]
        }
      ]
    },
    {
      "cell_type": "code",
      "source": [
        "conn.execute('''CREATE TABLE IF NOT EXISTS \"Booking\"(\n",
        "  \"Reference\" TEXT NOT NULL,\n",
        "  \"StartTime\" DATETIME NOT NULL,\n",
        "  \"EndTime\" DATETIME NOT NULL,\n",
        "  \"StartOdometer\" INTEGER NOT NULL,\n",
        "  \"EndOdometer\" INTEGER NOT NULL,\n",
        "  \"OfficialID\" INTEGER NOT NULL,\n",
        "  \"DriverID\" INTEGER NOT NULL,\n",
        "  \"VehicleID\" INTEGER NOT NULL,\n",
        "  \"PickupLocationID\" INTEGER NOT NULL,\n",
        "  \"DropOffLocationID\" INTEGER NOT NULL,\n",
        "  PRIMARY KEY(\"Reference\"),\n",
        "  CONSTRAINT \"Vehicle_Booking\"\n",
        "    FOREIGN KEY (\"VehicleID\") REFERENCES \"Vehicle\" (\"VehicleID\"),\n",
        "  CONSTRAINT \"Driver_Booking\"\n",
        "    FOREIGN KEY (\"DriverID\") REFERENCES \"Driver\" (\"DriverID\"),\n",
        "  CONSTRAINT \"Official_Booking\"\n",
        "    FOREIGN KEY (\"OfficialID\") REFERENCES \"Official\" (\"OfficialID\"),\n",
        "  CONSTRAINT \"Location_Booking\"\n",
        "    FOREIGN KEY (\"PickupLocationID\") REFERENCES \"Location\" (\"LocationID\"),\n",
        "  CONSTRAINT \"Location_Booking\"\n",
        "    FOREIGN KEY (\"DropOffLocationID\") REFERENCES \"Location\" (\"LocationID\"));'''\n",
        ")\n",
        "\n",
        "print(\"Table Booking succesfully created\")"
      ],
      "metadata": {
        "colab": {
          "base_uri": "https://localhost:8080/"
        },
        "id": "RY_M6xq8XjY2",
        "outputId": "853df69b-f940-4624-f169-f19a4e2c863b"
      },
      "execution_count": 25,
      "outputs": [
        {
          "output_type": "stream",
          "name": "stdout",
          "text": [
            "Table Booking succesfully created\n"
          ]
        }
      ]
    },
    {
      "cell_type": "code",
      "source": [
        "conn.execute('''CREATE TABLE IF NOT EXISTS \"VehicleAction\"(\n",
        "  \"ActionID\" INTEGER NOT NULL,\n",
        "  \"VehicleID\" INTEGER NOT NULL,\n",
        "  \"Type\" CHARACTER NOT NULL,\n",
        "  \"Odometer\" INT NOT NULL,\n",
        "  \"FinalCost\" INT NOT NULL,\n",
        "  \"Description\" TEXT NOT NULL,\n",
        "  \"Date\" DATE NOT NULL,\n",
        "  PRIMARY KEY(\"ActionID\"),\n",
        "  CONSTRAINT \"Vehicle_VehicleAction\"\n",
        "    FOREIGN KEY (\"VehicleID\") REFERENCES \"Vehicle\" (\"VehicleID\"));'''\n",
        ")\n",
        "\n",
        "print(\"Table VehicleAction succesfully created\")"
      ],
      "metadata": {
        "colab": {
          "base_uri": "https://localhost:8080/"
        },
        "id": "9LVhasFmXldm",
        "outputId": "669016b4-ff73-4140-e750-1fc5db406f42"
      },
      "execution_count": 26,
      "outputs": [
        {
          "output_type": "stream",
          "name": "stdout",
          "text": [
            "Table VehicleAction succesfully created\n"
          ]
        }
      ]
    },
    {
      "cell_type": "code",
      "source": [
        "languages = [\n",
        "    (\"EN\", \"English\"),\n",
        "    (\"KR\", \"Korean\"),\n",
        "    (\"FR\", \"French\")\n",
        "]\n",
        "\n",
        "conn.executemany('''INSERT INTO \"Language\" (\"LanguageCode\", \"LanguageName\") VALUES (?, ?);''', languages)\n",
        "conn.commit()\n",
        "\n",
        "print(\"Table Language succesfully filled\")"
      ],
      "metadata": {
        "colab": {
          "base_uri": "https://localhost:8080/"
        },
        "id": "iESNr8wDX-Ju",
        "outputId": "45b51046-17e2-4a63-de12-501c25726290"
      },
      "execution_count": 27,
      "outputs": [
        {
          "output_type": "stream",
          "name": "stdout",
          "text": [
            "Table Language succesfully filled\n"
          ]
        }
      ]
    },
    {
      "cell_type": "code",
      "source": [
        "countries = [\n",
        "    (\"KR\", \"South Korea\", \"KR\"),\n",
        "    (\"EN\", \"England\", \"EN\"),\n",
        "    (\"FR\", \"France\", \"FR\")\n",
        "]\n",
        "\n",
        "conn.executemany('''INSERT INTO \"Country\" (\"CountryCode\", \"CountryName\", \"MostFrequentlySpokenLanguage\") VALUES (?, ?, ?);''', countries)\n",
        "conn.commit()\n",
        "\n",
        "print(\"Table Country succesfully filled\")"
      ],
      "metadata": {
        "colab": {
          "base_uri": "https://localhost:8080/"
        },
        "id": "N1-PWHcmYFtO",
        "outputId": "e799505a-aa8a-4090-ad98-f2438748a208"
      },
      "execution_count": 28,
      "outputs": [
        {
          "output_type": "stream",
          "name": "stdout",
          "text": [
            "Table Country succesfully filled\n"
          ]
        }
      ]
    },
    {
      "cell_type": "code",
      "source": [
        "officials = [\n",
        "    (\"INCHEON\", \"Clement Monteiro\", \"Coach\", \"KR\", \"KR\"),\n",
        "    (\"INCHEON\", \"Cyprien Singez\", \"Journalist\", \"FR\", \"FR\"),\n",
        "]\n",
        "\n",
        "conn.executemany('''INSERT INTO \"Official\" (\"CityID\", \"Name\", \"Role\", \"PreferredLanguage\", \"CountryCode\") VALUES (?, ?, ?, ?, ?);''', officials)\n",
        "conn.commit()\n",
        "\n",
        "print(\"Table Official succesfully filled\")"
      ],
      "metadata": {
        "colab": {
          "base_uri": "https://localhost:8080/"
        },
        "id": "jUEOQOm2YJRJ",
        "outputId": "1f08fcb6-b369-4ed9-b02e-d2a1622d227f"
      },
      "execution_count": 29,
      "outputs": [
        {
          "output_type": "stream",
          "name": "stdout",
          "text": [
            "Table Official succesfully filled\n"
          ]
        }
      ]
    },
    {
      "cell_type": "code",
      "source": [
        "drivers = [\n",
        "    (\"azerty123456789\", \"Clément Monteiro\", 3, \"KR\")\n",
        "]\n",
        "\n",
        "conn.executemany('''INSERT INTO \"Driver\" (\"LicenseNumber\", \"Name\", \"ClearanceLevel\", \"PreferredLanguage\") VALUES (?, ?, ?, ?);''', drivers)\n",
        "conn.commit()\n",
        "\n",
        "print(\"Table Driver succesfully filled\")"
      ],
      "metadata": {
        "colab": {
          "base_uri": "https://localhost:8080/"
        },
        "id": "9em2EpyqYQ4a",
        "outputId": "c06f9431-0246-44ff-8e48-459fd95552e5"
      },
      "execution_count": 30,
      "outputs": [
        {
          "output_type": "stream",
          "name": "stdout",
          "text": [
            "Table Driver succesfully filled\n"
          ]
        }
      ]
    },
    {
      "cell_type": "code",
      "source": [
        "locations = [\n",
        "    (\"Incheon Airport\", \"Incheon Airport\", \"Airport\"),\n",
        "    (\"Incheon Bus Terminal\", \"Incheon Bus Terminal\", \"Bus Terminal\"),\n",
        "    (\"Jeju Airport\", \"Jeju Airport\", \"Airport\")\n",
        "]\n",
        "\n",
        "conn.executemany('''INSERT INTO \"Location\" (\"Name\", \"Address\", \"Type\") VALUES (?, ?, ?);''', locations)\n",
        "conn.commit()\n",
        "\n",
        "print(\"Table Location succesfully filled\")"
      ],
      "metadata": {
        "colab": {
          "base_uri": "https://localhost:8080/"
        },
        "id": "z5kJ1p_HYTQx",
        "outputId": "52e59729-1b60-4713-ccb5-85becea14f75"
      },
      "execution_count": 31,
      "outputs": [
        {
          "output_type": "stream",
          "name": "stdout",
          "text": [
            "Table Location succesfully filled\n"
          ]
        }
      ]
    },
    {
      "cell_type": "code",
      "source": [
        "vehicles = [\n",
        "    (\"AA-123-AA\", \"Tesla\", \"Model Y\", \"BLue\", 10, 5, False),\n",
        "    (\"AA-123-AA\", \"Toyota\", \"Prius\", \"White\", 10000, 5, True)\n",
        "]\n",
        "\n",
        "conn.executemany('''INSERT INTO \"Vehicle\" (\"RegistrationID\", \"Manufacturer\", \"Model\", \"Color\", \"CurrentOdometer\", \"PassengerCapacity\", \"Avalaible\") VALUES (?, ?, ?, ?, ?, ?, ?);''', vehicles)\n",
        "conn.commit()\n",
        "\n",
        "print(\"Table Vehicle succesfully filled\")"
      ],
      "metadata": {
        "colab": {
          "base_uri": "https://localhost:8080/"
        },
        "id": "XpNfBDeBYX0M",
        "outputId": "8be36e63-28b4-4049-ba56-285da46a974a"
      },
      "execution_count": 32,
      "outputs": [
        {
          "output_type": "stream",
          "name": "stdout",
          "text": [
            "Table Vehicle succesfully filled\n"
          ]
        }
      ]
    },
    {
      "cell_type": "code",
      "source": [
        "vehicleActions = [\n",
        "    (\"R\", 1, 10000, 1000, \"Repair because of damage\", \"2023-10-21\"),\n",
        "    (\"M\", 2, 10, 1000, \"Battery replacement\", \"2023-10-21\")\n",
        "]\n",
        "\n",
        "conn.executemany('''INSERT INTO \"VehicleAction\" (\"Type\", \"VehicleID\", \"Odometer\", \"FinalCost\", \"Description\", \"Date\") VALUES (?, ?, ?, ?, ?, ?);''', vehicleActions)\n",
        "conn.commit()\n",
        "\n",
        "print(\"Table VehicleAction succesfully filled\")"
      ],
      "metadata": {
        "colab": {
          "base_uri": "https://localhost:8080/"
        },
        "id": "OkKSibR7YbT9",
        "outputId": "48f1800b-3751-4662-ff3b-195feae2190a"
      },
      "execution_count": 33,
      "outputs": [
        {
          "output_type": "stream",
          "name": "stdout",
          "text": [
            "Table VehicleAction succesfully filled\n"
          ]
        }
      ]
    },
    {
      "cell_type": "code",
      "source": [
        "bookings = [\n",
        "    (\"azerty123456789\", \"2023-10-21 10:00:00\", \"2023-10-21 11:00:00\", 10000, 10010, 1, 1, 1, 1, 2),\n",
        "    (\"987654321ytreza\", \"2023-10-21 08:00:00\", \"2023-10-21 12:00:00\", 10, 20, 2, 1, 2, 2, 3)\n",
        "]\n",
        "\n",
        "conn.executemany('''INSERT INTO \"Booking\" (\"Reference\", \"StartTime\", \"EndTime\", \"StartOdometer\", \"EndOdometer\", \"OfficialID\", \"DriverID\", \"VehicleID\", \"PickupLocationID\", \"DropOffLocationID\") VALUES (?, ?, ?, ?, ?, ?, ?, ?, ?, ?);''', bookings)\n",
        "conn.commit()\n",
        "\n",
        "print(\"Table Booking succesfully filled\")"
      ],
      "metadata": {
        "colab": {
          "base_uri": "https://localhost:8080/"
        },
        "id": "cNQCY2gvYdhD",
        "outputId": "f7630e09-88f1-4bc9-e6f8-9c63ce45e22a"
      },
      "execution_count": 34,
      "outputs": [
        {
          "output_type": "stream",
          "name": "stdout",
          "text": [
            "Table Booking succesfully filled\n"
          ]
        }
      ]
    },
    {
      "cell_type": "code",
      "source": [
        "tables = [\"Vehicle\", \"Language\", \"Country\", \"Official\", \"Driver\", \"Location\", \"Booking\", \"VehicleAction\"]\n",
        "\n",
        "for table in tables:\n",
        "    print(table + \" rows:\")\n",
        "    print(conn.execute(\"SELECT * FROM \" + table + \";\").fetchall())\n",
        "    print(\"\")"
      ],
      "metadata": {
        "colab": {
          "base_uri": "https://localhost:8080/"
        },
        "id": "t4PJOX0UYf-2",
        "outputId": "8d4b9bbb-3681-4644-ab94-ff3d8768119b"
      },
      "execution_count": 35,
      "outputs": [
        {
          "output_type": "stream",
          "name": "stdout",
          "text": [
            "Vehicle rows:\n",
            "[(1, 'AA-123-AA', 'Tesla', 'Model Y', 'BLue', 10, 5, 0), (2, 'AA-123-AA', 'Toyota', 'Prius', 'White', 10000, 5, 1)]\n",
            "\n",
            "Language rows:\n",
            "[('EN', 'English'), ('KR', 'Korean'), ('FR', 'French')]\n",
            "\n",
            "Country rows:\n",
            "[('KR', 'South Korea', 'KR'), ('EN', 'England', 'EN'), ('FR', 'France', 'FR')]\n",
            "\n",
            "Official rows:\n",
            "[(1, 'INCHEON', 'Clement Monteiro', 'Coach', 'KR', 'KR'), (2, 'INCHEON', 'Cyprien Singez', 'Journalist', 'FR', 'FR')]\n",
            "\n",
            "Driver rows:\n",
            "[(1, 'azerty123456789', 'Clément Monteiro', 3, None, None, None, None, None, 'KR')]\n",
            "\n",
            "Location rows:\n",
            "[(1, 'Incheon Airport', 'Incheon Airport', 'Airport'), (2, 'Incheon Bus Terminal', 'Incheon Bus Terminal', 'Bus Terminal'), (3, 'Jeju Airport', 'Jeju Airport', 'Airport')]\n",
            "\n",
            "Booking rows:\n",
            "[('azerty123456789', '2023-10-21 10:00:00', '2023-10-21 11:00:00', 10000, 10010, 1, 1, 1, 1, 2), ('987654321ytreza', '2023-10-21 08:00:00', '2023-10-21 12:00:00', 10, 20, 2, 1, 2, 2, 3)]\n",
            "\n",
            "VehicleAction rows:\n",
            "[(1, 1, 'R', 10000, 1000, 'Repair because of damage', '2023-10-21'), (2, 2, 'M', 10, 1000, 'Battery replacement', '2023-10-21')]\n",
            "\n"
          ]
        }
      ]
    }
  ]
}